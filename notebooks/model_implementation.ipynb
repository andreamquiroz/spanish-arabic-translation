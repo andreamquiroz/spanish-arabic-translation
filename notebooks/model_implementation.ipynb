{
 "cells": [
  {
   "cell_type": "code",
   "execution_count": 1,
   "id": "dda01da8",
   "metadata": {},
   "outputs": [
    {
     "name": "stderr",
     "output_type": "stream",
     "text": [
      "/home/maquiroz/miniconda3/envs/spanish_arabic/lib/python3.9/site-packages/tqdm/auto.py:21: TqdmWarning: IProgress not found. Please update jupyter and ipywidgets. See https://ipywidgets.readthedocs.io/en/stable/user_install.html\n",
      "  from .autonotebook import tqdm as notebook_tqdm\n"
     ]
    }
   ],
   "source": [
    "import pandas as pd\n",
    "from transformers import MarianMTModel, MarianTokenizer, Seq2SeqTrainingArguments, Seq2SeqTrainer, DataCollatorForSeq2Seq\n",
    "from datasets import load_dataset, Dataset, DatasetDict\n",
    "from torch.utils.data import DataLoader\n",
    "# Replace the AdamW import with this:\n",
    "from torch.optim import AdamW  # Import AdamW from torch.optim instead\n",
    "from transformers import get_scheduler  # This should still work\n",
    "import evaluate\n",
    "import numpy as np\n",
    "from tqdm.auto import tqdm\n",
    "import accelerate\n",
    "import torch\n",
    "import time\n",
    "from datetime import datetime\n",
    "import os"
   ]
  },
  {
   "cell_type": "code",
   "execution_count": 2,
   "id": "7fa751c0",
   "metadata": {},
   "outputs": [],
   "source": [
    "model_name = \"Helsinki-NLP/opus-mt-es-ar\"\n",
    "tokenizer = MarianTokenizer.from_pretrained(model_name)\n",
    "model = MarianMTModel.from_pretrained(model_name)"
   ]
  },
  {
   "cell_type": "code",
   "execution_count": 3,
   "id": "d99d2d44",
   "metadata": {},
   "outputs": [
    {
     "name": "stdout",
     "output_type": "stream",
     "text": [
      "Train set: 13852 examples\n",
      "Validation set: 1732 examples\n",
      "Test set: 1732 examples\n"
     ]
    },
    {
     "data": {
      "text/html": [
       "<div>\n",
       "<style scoped>\n",
       "    .dataframe tbody tr th:only-of-type {\n",
       "        vertical-align: middle;\n",
       "    }\n",
       "\n",
       "    .dataframe tbody tr th {\n",
       "        vertical-align: top;\n",
       "    }\n",
       "\n",
       "    .dataframe thead th {\n",
       "        text-align: right;\n",
       "    }\n",
       "</style>\n",
       "<table border=\"1\" class=\"dataframe\">\n",
       "  <thead>\n",
       "    <tr style=\"text-align: right;\">\n",
       "      <th></th>\n",
       "      <th>spanish</th>\n",
       "      <th>arabic</th>\n",
       "    </tr>\n",
       "  </thead>\n",
       "  <tbody>\n",
       "    <tr>\n",
       "      <th>0</th>\n",
       "      <td>¿quì vas a hacer esta noche?</td>\n",
       "      <td>ماذا ستفعل الليله بعد مغادرتي؟</td>\n",
       "    </tr>\n",
       "    <tr>\n",
       "      <th>1</th>\n",
       "      <td>incluye también el océano artico y todo el con...</td>\n",
       "      <td>وتشمل ايضا المحيط القطبي الشمالي وقاره انتاركت...</td>\n",
       "    </tr>\n",
       "    <tr>\n",
       "      <th>2</th>\n",
       "      <td>hola, ¿quieres un bocadillo?</td>\n",
       "      <td>مرحبا ، ما رايك بوجبه؟</td>\n",
       "    </tr>\n",
       "    <tr>\n",
       "      <th>3</th>\n",
       "      <td>aldeas de gizil oba y yarymdzha, región de tar...</td>\n",
       "      <td>قريتا غيزيل اوبا وياريمدزها، منطقه ترتر، اذربيجان</td>\n",
       "    </tr>\n",
       "    <tr>\n",
       "      <th>4</th>\n",
       "      <td>- [gladys] ¿me oíste?</td>\n",
       "      <td>‫‏ - هل سمعتني؟ ‫‏</td>\n",
       "    </tr>\n",
       "  </tbody>\n",
       "</table>\n",
       "</div>"
      ],
      "text/plain": [
       "                                             spanish  \\\n",
       "0                       ¿quì vas a hacer esta noche?   \n",
       "1  incluye también el océano artico y todo el con...   \n",
       "2                       hola, ¿quieres un bocadillo?   \n",
       "3  aldeas de gizil oba y yarymdzha, región de tar...   \n",
       "4                              - [gladys] ¿me oíste?   \n",
       "\n",
       "                                              arabic  \n",
       "0                     ماذا ستفعل الليله بعد مغادرتي؟  \n",
       "1  وتشمل ايضا المحيط القطبي الشمالي وقاره انتاركت...  \n",
       "2                             مرحبا ، ما رايك بوجبه؟  \n",
       "3  قريتا غيزيل اوبا وياريمدزها، منطقه ترتر، اذربيجان  \n",
       "4                                 ‫‏ - هل سمعتني؟ ‫‏  "
      ]
     },
     "execution_count": 3,
     "metadata": {},
     "output_type": "execute_result"
    }
   ],
   "source": [
    "train_df = pd.read_csv('/home/maquiroz/mixtec_translation_project/data/processed/train.csv')\n",
    "val_df = pd.read_csv('/home/maquiroz/mixtec_translation_project/data/processed/val.csv')\n",
    "test_df = pd.read_csv('/home/maquiroz/mixtec_translation_project/data/processed/test.csv')\n",
    "\n",
    "# Verify data loaded correctly\n",
    "print(f\"Train set: {len(train_df)} examples\")\n",
    "print(f\"Validation set: {len(val_df)} examples\")\n",
    "print(f\"Test set: {len(test_df)} examples\")\n",
    "\n",
    "train_df.head()"
   ]
  },
  {
   "cell_type": "code",
   "execution_count": 4,
   "id": "10b27283",
   "metadata": {},
   "outputs": [
    {
     "name": "stdout",
     "output_type": "stream",
     "text": [
      "Using device: cuda\n"
     ]
    }
   ],
   "source": [
    "# Check for GPU availability\n",
    "device = torch.device(\"cuda\" if torch.cuda.is_available() else \"cpu\")\n",
    "print(f\"Using device: {device}\")"
   ]
  },
  {
   "cell_type": "code",
   "execution_count": 5,
   "id": "29285259",
   "metadata": {},
   "outputs": [],
   "source": [
    "# Convert dataframes to HF Dataset format\n",
    "def df_to_dataset(df):\n",
    "    return {\n",
    "        \"translation\": [\n",
    "            {\"es\": row[\"spanish\"], \"ar\": row[\"arabic\"]} \n",
    "            for _, row in df.iterrows()\n",
    "        ]\n",
    "    }"
   ]
  },
  {
   "cell_type": "code",
   "execution_count": 6,
   "id": "e1aa3f3b",
   "metadata": {},
   "outputs": [],
   "source": [
    "train_dataset = Dataset.from_dict(df_to_dataset(train_df))\n",
    "val_dataset = Dataset.from_dict(df_to_dataset(val_df))\n",
    "test_dataset = Dataset.from_dict(df_to_dataset(test_df))"
   ]
  },
  {
   "cell_type": "code",
   "execution_count": 7,
   "id": "fee47353",
   "metadata": {},
   "outputs": [],
   "source": [
    "# Combine into a DatasetDict\n",
    "datasets = DatasetDict({\n",
    "    \"train\": train_dataset,\n",
    "    \"validation\": val_dataset,\n",
    "    \"test\": test_dataset\n",
    "})"
   ]
  },
  {
   "cell_type": "code",
   "execution_count": 8,
   "id": "491b21b2",
   "metadata": {},
   "outputs": [
    {
     "name": "stdout",
     "output_type": "stream",
     "text": [
      "Train set: 13852 examples\n",
      "Validation set: 1732 examples\n",
      "Test set: 1732 examples\n"
     ]
    }
   ],
   "source": [
    "print(f\"Train set: {len(train_dataset)} examples\")\n",
    "print(f\"Validation set: {len(val_dataset)} examples\")\n",
    "print(f\"Test set: {len(test_dataset)} examples\")"
   ]
  },
  {
   "cell_type": "code",
   "execution_count": 9,
   "id": "258c4981",
   "metadata": {},
   "outputs": [
    {
     "name": "stdout",
     "output_type": "stream",
     "text": [
      "Dataset structure:\n",
      "{'translation': {'ar': 'ماذا ستفعل الليله بعد مغادرتي؟', 'es': '¿quì vas a hacer esta noche?'}}\n"
     ]
    }
   ],
   "source": [
    "print(\"Dataset structure:\")\n",
    "print(train_dataset[0])  # Print the first example to see its structure"
   ]
  },
  {
   "cell_type": "code",
   "execution_count": 10,
   "id": "29385057",
   "metadata": {},
   "outputs": [
    {
     "name": "stdout",
     "output_type": "stream",
     "text": [
      "New dataset structure:\n",
      "{'spanish': '¿quì vas a hacer esta noche?', 'arabic': 'ماذا ستفعل الليله بعد مغادرتي؟'}\n"
     ]
    }
   ],
   "source": [
    "train_examples = []\n",
    "for example in train_dataset:\n",
    "    train_examples.append({\n",
    "        \"spanish\": example[\"translation\"][\"es\"],\n",
    "        \"arabic\": example[\"translation\"][\"ar\"]\n",
    "    })\n",
    "\n",
    "val_examples = []\n",
    "for example in val_dataset:\n",
    "    val_examples.append({\n",
    "        \"spanish\": example[\"translation\"][\"es\"],\n",
    "        \"arabic\": example[\"translation\"][\"ar\"]\n",
    "    })\n",
    "\n",
    "test_examples = []\n",
    "for example in test_dataset:\n",
    "    test_examples.append({\n",
    "        \"spanish\": example[\"translation\"][\"es\"],\n",
    "        \"arabic\": example[\"translation\"][\"ar\"]\n",
    "    })\n",
    "\n",
    "# Create new datasets with the flat structure\n",
    "new_train_dataset = Dataset.from_list(train_examples)\n",
    "new_val_dataset = Dataset.from_list(val_examples)\n",
    "new_test_dataset = Dataset.from_list(test_examples)\n",
    "\n",
    "# Combine into a DatasetDict\n",
    "new_datasets = DatasetDict({\n",
    "    \"train\": new_train_dataset,\n",
    "    \"validation\": new_val_dataset,\n",
    "    \"test\": new_test_dataset\n",
    "})\n",
    "\n",
    "# Check the new structure\n",
    "print(\"New dataset structure:\")\n",
    "print(new_train_dataset[0])"
   ]
  },
  {
   "cell_type": "code",
   "execution_count": 11,
   "id": "b552d9a7",
   "metadata": {},
   "outputs": [],
   "source": [
    "def preprocess_function(examples):\n",
    "    # Tokenize Spanish inputs\n",
    "    model_inputs = tokenizer(\n",
    "        examples[\"spanish\"], \n",
    "        max_length=128,\n",
    "        padding=\"max_length\", \n",
    "        truncation=True\n",
    "    )\n",
    "    \n",
    "    # Tokenize Arabic targets\n",
    "    with tokenizer.as_target_tokenizer():\n",
    "        labels = tokenizer(\n",
    "            examples[\"arabic\"],\n",
    "            max_length=128,\n",
    "            padding=\"max_length\",\n",
    "            truncation=True\n",
    "        )\n",
    "    \n",
    "    model_inputs[\"labels\"] = labels[\"input_ids\"]\n",
    "    return model_inputs"
   ]
  },
  {
   "cell_type": "code",
   "execution_count": 12,
   "id": "9d5939c7",
   "metadata": {},
   "outputs": [
    {
     "name": "stderr",
     "output_type": "stream",
     "text": [
      "Map:   0%|                                                                          | 0/13852 [00:00<?, ? examples/s]/home/maquiroz/miniconda3/envs/spanish_arabic/lib/python3.9/site-packages/transformers/tokenization_utils_base.py:3980: UserWarning: `as_target_tokenizer` is deprecated and will be removed in v5 of Transformers. You can tokenize your labels by using the argument `text_target` of the regular `__call__` method (either in the same call as your input texts if you use the same keyword arguments, or in a separate call.\n",
      "  warnings.warn(\n",
      "Map: 100%|████████████████████████████████████████████████████████████| 13852/13852 [00:07<00:00, 1746.43 examples/s]\n",
      "Map: 100%|██████████████████████████████████████████████████████████████| 1732/1732 [00:00<00:00, 1770.50 examples/s]\n",
      "Map: 100%|██████████████████████████████████████████████████████████████| 1732/1732 [00:00<00:00, 1794.82 examples/s]"
     ]
    },
    {
     "name": "stdout",
     "output_type": "stream",
     "text": [
      "Tokenized dataset structure:\n",
      "{'input_ids': [37, 18746, 61548, 2535, 13, 270, 204, 1688, 35, 0, 62517, 62517, 62517, 62517, 62517, 62517, 62517, 62517, 62517, 62517, 62517, 62517, 62517, 62517, 62517, 62517, 62517, 62517, 62517, 62517, 62517, 62517, 62517, 62517, 62517, 62517, 62517, 62517, 62517, 62517, 62517, 62517, 62517, 62517, 62517, 62517, 62517, 62517, 62517, 62517, 62517, 62517, 62517, 62517, 62517, 62517, 62517, 62517, 62517, 62517, 62517, 62517, 62517, 62517, 62517, 62517, 62517, 62517, 62517, 62517, 62517, 62517, 62517, 62517, 62517, 62517, 62517, 62517, 62517, 62517, 62517, 62517, 62517, 62517, 62517, 62517, 62517, 62517, 62517, 62517, 62517, 62517, 62517, 62517, 62517, 62517, 62517, 62517, 62517, 62517, 62517, 62517, 62517, 62517, 62517, 62517, 62517, 62517, 62517, 62517, 62517, 62517, 62517, 62517, 62517, 62517, 62517, 62517, 62517, 62517, 62517, 62517, 62517, 62517, 62517, 62517, 62517, 62517], 'attention_mask': [1, 1, 1, 1, 1, 1, 1, 1, 1, 1, 0, 0, 0, 0, 0, 0, 0, 0, 0, 0, 0, 0, 0, 0, 0, 0, 0, 0, 0, 0, 0, 0, 0, 0, 0, 0, 0, 0, 0, 0, 0, 0, 0, 0, 0, 0, 0, 0, 0, 0, 0, 0, 0, 0, 0, 0, 0, 0, 0, 0, 0, 0, 0, 0, 0, 0, 0, 0, 0, 0, 0, 0, 0, 0, 0, 0, 0, 0, 0, 0, 0, 0, 0, 0, 0, 0, 0, 0, 0, 0, 0, 0, 0, 0, 0, 0, 0, 0, 0, 0, 0, 0, 0, 0, 0, 0, 0, 0, 0, 0, 0, 0, 0, 0, 0, 0, 0, 0, 0, 0, 0, 0, 0, 0, 0, 0, 0, 0], 'labels': [301, 13637, 29640, 213, 51454, 636, 56, 0, 62517, 62517, 62517, 62517, 62517, 62517, 62517, 62517, 62517, 62517, 62517, 62517, 62517, 62517, 62517, 62517, 62517, 62517, 62517, 62517, 62517, 62517, 62517, 62517, 62517, 62517, 62517, 62517, 62517, 62517, 62517, 62517, 62517, 62517, 62517, 62517, 62517, 62517, 62517, 62517, 62517, 62517, 62517, 62517, 62517, 62517, 62517, 62517, 62517, 62517, 62517, 62517, 62517, 62517, 62517, 62517, 62517, 62517, 62517, 62517, 62517, 62517, 62517, 62517, 62517, 62517, 62517, 62517, 62517, 62517, 62517, 62517, 62517, 62517, 62517, 62517, 62517, 62517, 62517, 62517, 62517, 62517, 62517, 62517, 62517, 62517, 62517, 62517, 62517, 62517, 62517, 62517, 62517, 62517, 62517, 62517, 62517, 62517, 62517, 62517, 62517, 62517, 62517, 62517, 62517, 62517, 62517, 62517, 62517, 62517, 62517, 62517, 62517, 62517, 62517, 62517, 62517, 62517, 62517, 62517]}\n"
     ]
    },
    {
     "name": "stderr",
     "output_type": "stream",
     "text": [
      "\n"
     ]
    }
   ],
   "source": [
    "# Apply preprocessing to all datasets\n",
    "tokenized_datasets = new_datasets.map(\n",
    "    preprocess_function,\n",
    "    batched=True,\n",
    "    remove_columns=[\"spanish\", \"arabic\"]\n",
    ")\n",
    "\n",
    "# Check if tokenization worked\n",
    "print(\"Tokenized dataset structure:\")\n",
    "print(tokenized_datasets[\"train\"][0])"
   ]
  },
  {
   "cell_type": "code",
   "execution_count": 13,
   "id": "2452615a",
   "metadata": {},
   "outputs": [],
   "source": [
    "# Create a data collator that will take care of padding and creating tensors\n",
    "data_collator = DataCollatorForSeq2Seq(\n",
    "    tokenizer,\n",
    "    model=model,\n",
    "    padding=True,\n",
    "    return_tensors=\"pt\"\n",
    ")"
   ]
  },
  {
   "cell_type": "code",
   "execution_count": 14,
   "id": "928bd30e",
   "metadata": {},
   "outputs": [],
   "source": [
    "training_args = Seq2SeqTrainingArguments(\n",
    "    output_dir=\"./results/marian_es_ar\",\n",
    "    eval_strategy=\"epoch\",\n",
    "    learning_rate=2e-5,  # Lower learning rate for fine-tuning\n",
    "    per_device_train_batch_size=16,  # Adjust if you get OOM errors\n",
    "    per_device_eval_batch_size=16,\n",
    "    weight_decay=0.01,\n",
    "    save_total_limit=3,\n",
    "    num_train_epochs=3,\n",
    "    predict_with_generate=True,\n",
    "    fp16=True,  # Mixed precision\n",
    "    report_to=None,  # Disable TensorBoard\n",
    "    save_strategy=\"epoch\",\n",
    "    logging_dir=\"./logs\",\n",
    "    logging_steps=100,\n",
    ")"
   ]
  },
  {
   "cell_type": "code",
   "execution_count": 15,
   "id": "99e3f60a",
   "metadata": {},
   "outputs": [],
   "source": [
    "# Define metrics for evaluation\n",
    "metric = evaluate.load(\"sacrebleu\")\n",
    "\n",
    "def compute_metrics(eval_preds):\n",
    "    preds, labels = eval_preds\n",
    "    # Replace -100 with pad token id\n",
    "    labels = np.where(labels != -100, labels, tokenizer.pad_token_id)\n",
    "    \n",
    "    # Decode predictions and labels\n",
    "    decoded_preds = tokenizer.batch_decode(preds, skip_special_tokens=True)\n",
    "    decoded_labels = tokenizer.batch_decode(labels, skip_special_tokens=True)\n",
    "    \n",
    "    # Compute BLEU score\n",
    "    result = metric.compute(predictions=decoded_preds, references=[[label] for label in decoded_labels])\n",
    "    return {\"bleu\": result[\"score\"]}"
   ]
  },
  {
   "cell_type": "code",
   "execution_count": 16,
   "id": "e5d4619c",
   "metadata": {},
   "outputs": [
    {
     "name": "stderr",
     "output_type": "stream",
     "text": [
      "/tmp/ipykernel_342921/1485828738.py:1: FutureWarning: `tokenizer` is deprecated and will be removed in version 5.0.0 for `Seq2SeqTrainer.__init__`. Use `processing_class` instead.\n",
      "  trainer = Seq2SeqTrainer(\n",
      "Detected kernel version 4.18.0, which is below the recommended minimum of 5.5.0; this can cause the process to hang. It is recommended to upgrade the kernel to the minimum version or higher.\n"
     ]
    }
   ],
   "source": [
    "trainer = Seq2SeqTrainer(\n",
    "    model=model,\n",
    "    args=training_args,\n",
    "    train_dataset=tokenized_datasets[\"train\"],\n",
    "    eval_dataset=tokenized_datasets[\"validation\"],\n",
    "    tokenizer=tokenizer,\n",
    "    data_collator=data_collator,\n",
    "    compute_metrics=compute_metrics,\n",
    ")"
   ]
  },
  {
   "cell_type": "code",
   "execution_count": 17,
   "id": "eecc2c66",
   "metadata": {},
   "outputs": [
    {
     "name": "stdout",
     "output_type": "stream",
     "text": [
      "Training on 13852 examples\n",
      "Validating on 1732 examples\n"
     ]
    }
   ],
   "source": [
    "# Print dataset sizes to verify\n",
    "print(f\"Training on {len(tokenized_datasets['train'])} examples\")\n",
    "print(f\"Validating on {len(tokenized_datasets['validation'])} examples\")"
   ]
  },
  {
   "cell_type": "code",
   "execution_count": 18,
   "id": "cf53cb7a",
   "metadata": {},
   "outputs": [
    {
     "name": "stdout",
     "output_type": "stream",
     "text": [
      "Starting training...\n"
     ]
    },
    {
     "name": "stderr",
     "output_type": "stream",
     "text": [
      "/home/maquiroz/miniconda3/envs/spanish_arabic/lib/python3.9/site-packages/torch/nn/parallel/_functions.py:71: UserWarning: Was asked to gather along dimension 0, but all input tensors were scalars; will instead unsqueeze and return a vector.\n",
      "  warnings.warn(\n"
     ]
    },
    {
     "data": {
      "text/html": [
       "\n",
       "    <div>\n",
       "      \n",
       "      <progress value='372' max='372' style='width:300px; height:20px; vertical-align: middle;'></progress>\n",
       "      [372/372 24:57, Epoch 3/3]\n",
       "    </div>\n",
       "    <table border=\"1\" class=\"dataframe\">\n",
       "  <thead>\n",
       " <tr style=\"text-align: left;\">\n",
       "      <th>Epoch</th>\n",
       "      <th>Training Loss</th>\n",
       "      <th>Validation Loss</th>\n",
       "      <th>Bleu</th>\n",
       "    </tr>\n",
       "  </thead>\n",
       "  <tbody>\n",
       "    <tr>\n",
       "      <td>1</td>\n",
       "      <td>0.809200</td>\n",
       "      <td>0.347065</td>\n",
       "      <td>10.633932</td>\n",
       "    </tr>\n",
       "    <tr>\n",
       "      <td>2</td>\n",
       "      <td>0.361500</td>\n",
       "      <td>0.326969</td>\n",
       "      <td>14.761230</td>\n",
       "    </tr>\n",
       "    <tr>\n",
       "      <td>3</td>\n",
       "      <td>0.342300</td>\n",
       "      <td>0.322452</td>\n",
       "      <td>14.965246</td>\n",
       "    </tr>\n",
       "  </tbody>\n",
       "</table><p>"
      ],
      "text/plain": [
       "<IPython.core.display.HTML object>"
      ]
     },
     "metadata": {},
     "output_type": "display_data"
    },
    {
     "name": "stderr",
     "output_type": "stream",
     "text": [
      "/home/maquiroz/miniconda3/envs/spanish_arabic/lib/python3.9/site-packages/transformers/modeling_utils.py:3339: UserWarning: Moving the following attributes in the config to the generation config: {'max_length': 512, 'num_beams': 4, 'bad_words_ids': [[62517]]}. You are seeing this warning because you've set generation parameters in the model config, as opposed to in the generation config.\n",
      "  warnings.warn(\n",
      "/home/maquiroz/miniconda3/envs/spanish_arabic/lib/python3.9/site-packages/torch/nn/parallel/_functions.py:71: UserWarning: Was asked to gather along dimension 0, but all input tensors were scalars; will instead unsqueeze and return a vector.\n",
      "  warnings.warn(\n",
      "/home/maquiroz/miniconda3/envs/spanish_arabic/lib/python3.9/site-packages/torch/nn/parallel/_functions.py:71: UserWarning: Was asked to gather along dimension 0, but all input tensors were scalars; will instead unsqueeze and return a vector.\n",
      "  warnings.warn(\n"
     ]
    },
    {
     "data": {
      "text/plain": [
       "TrainOutput(global_step=372, training_loss=0.4722303831449119, metrics={'train_runtime': 1502.2438, 'train_samples_per_second': 27.663, 'train_steps_per_second': 0.248, 'total_flos': 1408680452947968.0, 'train_loss': 0.4722303831449119, 'epoch': 3.0})"
      ]
     },
     "execution_count": 18,
     "metadata": {},
     "output_type": "execute_result"
    }
   ],
   "source": [
    "# 6. Train the model\n",
    "print(\"Starting training...\")\n",
    "trainer.train()"
   ]
  },
  {
   "cell_type": "code",
   "execution_count": 19,
   "id": "834a3add",
   "metadata": {},
   "outputs": [
    {
     "name": "stdout",
     "output_type": "stream",
     "text": [
      "Evaluating on test set...\n"
     ]
    },
    {
     "name": "stderr",
     "output_type": "stream",
     "text": [
      "/home/maquiroz/miniconda3/envs/spanish_arabic/lib/python3.9/site-packages/torch/nn/parallel/_functions.py:71: UserWarning: Was asked to gather along dimension 0, but all input tensors were scalars; will instead unsqueeze and return a vector.\n",
      "  warnings.warn(\n"
     ]
    },
    {
     "data": {
      "text/html": [
       "\n",
       "    <div>\n",
       "      \n",
       "      <progress value='16' max='16' style='width:300px; height:20px; vertical-align: middle;'></progress>\n",
       "      [16/16 05:32]\n",
       "    </div>\n",
       "    "
      ],
      "text/plain": [
       "<IPython.core.display.HTML object>"
      ]
     },
     "metadata": {},
     "output_type": "display_data"
    },
    {
     "name": "stdout",
     "output_type": "stream",
     "text": [
      "Test results: {'eval_loss': 0.331432580947876, 'eval_bleu': 13.692052462316509, 'eval_runtime': 371.6379, 'eval_samples_per_second': 4.66, 'eval_steps_per_second': 0.043, 'epoch': 3.0}\n"
     ]
    }
   ],
   "source": [
    "# Evaluate on test set\n",
    "print(\"Evaluating on test set...\")\n",
    "test_results = trainer.evaluate(tokenized_datasets[\"test\"])\n",
    "print(f\"Test results: {test_results}\")"
   ]
  },
  {
   "cell_type": "code",
   "execution_count": 20,
   "id": "e3af3e69",
   "metadata": {},
   "outputs": [
    {
     "name": "stdout",
     "output_type": "stream",
     "text": [
      "Model saved to ./models/marian_es_ar_finetuned\n"
     ]
    }
   ],
   "source": [
    "# Save the fine-tuned model\n",
    "model_save_path = \"./models/marian_es_ar_finetuned\"\n",
    "trainer.save_model(model_save_path)\n",
    "tokenizer.save_pretrained(model_save_path)\n",
    "print(f\"Model saved to {model_save_path}\")"
   ]
  },
  {
   "cell_type": "markdown",
   "id": "fe279aba",
   "metadata": {},
   "source": [
    "### Sample Translations and Analysis:"
   ]
  },
  {
   "cell_type": "code",
   "execution_count": 21,
   "id": "35841d14",
   "metadata": {},
   "outputs": [
    {
     "name": "stdout",
     "output_type": "stream",
     "text": [
      "Spanish: tal vez debería saludar a los muftic.\n",
      "Predicted Arabic: ربما يجب ان اسلم علا المءتمرين\n",
      "Reference Arabic: ربما ينبغي علي ان اسلم علا عاءله موفتكس\n",
      "--------------------------------------------------\n",
      "Spanish: informe del secretario general sobre la consolidación de la paz después de los conflictos (s/2012/746)\n",
      "Predicted Arabic: تقرير الامين العام عن بناء السلام بعد انتهاء النزاع (S/2012/746)\n",
      "Reference Arabic: تقرير الامين العام عن بناء السلام في اعقاب انتهاء النزاع (S/2012/746)\n",
      "--------------------------------------------------\n",
      "Spanish: - ¿te despidieron?\n",
      "Predicted Arabic: ‫ - هل طردت؟‬ ‫\n",
      "Reference Arabic: - هل طردت؟\n",
      "--------------------------------------------------\n",
      "Spanish: por consiguiente, esperamos que la conferencia de doha aliente el logro de un consenso y conduzca a nuevos progresos a fin de establecer los mecanismos que la comunidad internacional necesita para enfrentar los problemas más apremiantes de la salud y el clima.\n",
      "Predicted Arabic: ولذلك، يحدونا الأمل في ان يشجع مءتمر دوها علا التوصل الا توافق في الاراء ويسفر عن مزيد من التقدم في انشاء الاليات التي يحتاج اليها المجتمع الدولي لمواجهه اهم مشاكل الصحه والمناخ.\n",
      "Reference Arabic: وعليه، نرجو ان يشجع مءتمر الدوحه علا ظهور توافق في الاراء وان يءدي الا احراز تقدم جديد صوب انشاء الاليات التي يحتاجها المجتمع الدولي للتصدي للتحديات الرءيسيه في مجال الصحه والمناخ.\n",
      "--------------------------------------------------\n",
      "Spanish: ello, a pesar de haberse dictado en el recurso una sentencia parcialmente estimatoria que rectifica, en beneficio de los autores, los hechos que la sentencia de primera instancia había declarado probados.\n",
      "Predicted Arabic: ورغم صدور حكم جزئي في الاستئناف يصحح، لصالح أصحاب البلاغ، الوقائع التي اقرها حكم المحكمه الاولا.\n",
      "Reference Arabic: ولكن الحكم الذي صدر عقب تقديم طلب استءناف انصفهما جزءيا وعدل لصالحهما حقاءق اعلن ثبوتها في حكم المحكمه الادنا درجه.\n",
      "--------------------------------------------------\n",
      "Spanish: el objetivo fundamental del centro es fomentar la actividad empresarial y la competitividad a nivel de las empresas por medio de productos y servicios que respondan a las necesidades específicas de las empresas exportadoras, con el fin de hacerlas más competitivas.\n",
      "Predicted Arabic: والهدف الرءيسي للمركز هو تعزيز مباشره الاعمال الحره والقدرة التنافسيه علا مستوا المشاريع من خلال المنتجات والخدمات التي تلبي الاحتياجات المحدده للمنشآت المصدره لجعلها اكثر تنافسيه.\n",
      "Reference Arabic: ويهدف المركز في الاساس الا تعزيز روح المبادره في تنظيم المشاريع والقدره علا المنافسه علا مستوا المءسسات من خلال منتجات وخدمات تستجيب للاحتياجات الخاصه بمءسسات التصدير، متوخيا من ذلك اكسابها مزيدا من القدره علا المنافسه.\n",
      "--------------------------------------------------\n",
      "Spanish: están llevando a cabo asimismo actividades de remoción de minas la norwegian people's aid (ayuda del pueblo noruego) en la provincia de maputo, halo trust en la provincia de zambezia y ronco, contratista de la usaid, en la provincia de sofala.\n",
      "Predicted Arabic: وتقوم منظمه المساعده النرويجيه في مقاطعه مابوتو، وهالو تراست في مقاطعه زامبيزيا، ورنكو، وهي متعاقده مع منظمه الامم المتحده لإزالة الالغام في مقاطعه صوفالا، بتنفيذ عمليه ازاله الالغام.\n",
      "Reference Arabic: كما يضطلع ايضا بانشطه ازاله الالغام هيءه المعونه الشعبيه النرويجيه في مقاطعه مابوتو، و \"هيلو تراست\" في مقاطعه زامبيزيا، وشركه رونكو، وهي شركه مقاولات متعاقده مع وكاله الولايات المتحده للتنميه الدوليه، في مقاطعه سوفالا.\n",
      "--------------------------------------------------\n",
      "Spanish: cabe mencionar, al respecto, que el apoyo que presta el gobierno de kenya a las operaciones humanitarias es muy valioso y apreciado.\n",
      "Predicted Arabic: ومن الجدير بالذكر في هذا الصدد ان الدعم الذي تقدمه حكومه كينيا للعمليات الانسانيه قيم جدا ومقدر جدا.\n",
      "Reference Arabic: وفي هذا الصدد، كان الدعم المقدم من حكومه كينيا للعمليات الانسانيه مفيدا للغايه ومحل تقدير كبير.\n",
      "--------------------------------------------------\n",
      "Spanish: comité central de licitaciones\n",
      "Predicted Arabic: لجنه العطاءات المركزيه\n",
      "Reference Arabic: لجنه المناقصات المركزيه\n",
      "--------------------------------------------------\n",
      "Spanish: se anuncia la salida del tren no 12, el pacific coast sale en estos momentos por vía 5.\n",
      "Predicted Arabic: ‫يعلن عن خروج القطار رقم 12 ‫ويغادر المسءولين \"كوست\" الان عبر الخط الخامس.‬\n",
      "Reference Arabic: يستعد الان للانطلاق القطار رقم 12، ساحل الهادء... - - يغادر الان من السكه رقم 5.\n",
      "--------------------------------------------------\n"
     ]
    }
   ],
   "source": [
    "model.to(device)  # Ensure model is on the right device\n",
    "\n",
    "test_examples = test_df.head(10)\n",
    "for i, row in test_examples.iterrows():\n",
    "    spanish_text = row[\"spanish\"]\n",
    "    gold_arabic = row[\"arabic\"]\n",
    "    \n",
    "    # Translate\n",
    "    inputs = tokenizer(spanish_text, return_tensors=\"pt\").to(device)\n",
    "    outputs = model.generate(**inputs, max_length=128)\n",
    "    pred_arabic = tokenizer.decode(outputs[0], skip_special_tokens=True)\n",
    "    \n",
    "    print(f\"Spanish: {spanish_text}\")\n",
    "    print(f\"Predicted Arabic: {pred_arabic}\")\n",
    "    print(f\"Reference Arabic: {gold_arabic}\")\n",
    "    print(\"-\" * 50)"
   ]
  },
  {
   "cell_type": "code",
   "execution_count": 22,
   "id": "f564d7fe",
   "metadata": {},
   "outputs": [
    {
     "data": {
      "image/png": "[encoded data removed]",
      "text/plain": [
       "<Figure size 1000x600 with 1 Axes>"
      ]
     },
     "metadata": {},
     "output_type": "display_data"
    }
   ],
   "source": [
    "# Analyze performance by sentence length\n",
    "import matplotlib.pyplot as plt\n",
    "\n",
    "lengths = []\n",
    "bleu_scores = []\n",
    "\n",
    "for i, row in test_df.iterrows():\n",
    "    if i % 50 == 0:  # Sample to avoid processing the entire test set\n",
    "        spanish_text = row[\"spanish\"]\n",
    "        gold_arabic = row[\"arabic\"]\n",
    "        \n",
    "        # Translate\n",
    "        inputs = tokenizer(spanish_text, return_tensors=\"pt\").to(device)\n",
    "        outputs = model.generate(**inputs, max_length=128)\n",
    "        pred_arabic = tokenizer.decode(outputs[0], skip_special_tokens=True)\n",
    "        \n",
    "        # Calculate BLEU for this sentence\n",
    "        sentence_bleu = metric.compute(predictions=[pred_arabic], references=[[gold_arabic]])\n",
    "        \n",
    "        # Record length and BLEU\n",
    "        lengths.append(len(spanish_text.split()))\n",
    "        bleu_scores.append(sentence_bleu['score'])\n",
    "\n",
    "# Plot relationship between sentence length and BLEU\n",
    "plt.figure(figsize=(10, 6))\n",
    "plt.scatter(lengths, bleu_scores, alpha=0.6)\n",
    "plt.title('BLEU Score vs. Sentence Length')\n",
    "plt.xlabel('Spanish Sentence Length (words)')\n",
    "plt.ylabel('BLEU Score')\n",
    "plt.grid(True, linestyle='--', alpha=0.7)\n",
    "plt.savefig('bleu_vs_length.png')\n",
    "plt.show()"
   ]
  },
  {
   "cell_type": "code",
   "execution_count": 23,
   "id": "cfac2163",
   "metadata": {},
   "outputs": [],
   "source": [
    "def translate_spanish_to_arabic(spanish_text, model, tokenizer, device=\"cuda\"):\n",
    "    \"\"\"Translate Spanish text to Arabic using the fine-tuned model.\"\"\"\n",
    "    # Preprocess input\n",
    "    inputs = tokenizer(spanish_text, return_tensors=\"pt\").to(device)\n",
    "    \n",
    "    # Generate translation\n",
    "    outputs = model.generate(\n",
    "        **inputs,\n",
    "        max_length=128,\n",
    "        num_beams=5,\n",
    "        early_stopping=True\n",
    "    )\n",
    "    \n",
    "    # Decode output\n",
    "    arabic_text = tokenizer.decode(outputs[0], skip_special_tokens=True)\n",
    "    \n",
    "    return arabic_text"
   ]
  },
  {
   "cell_type": "code",
   "execution_count": 24,
   "id": "98b62d15",
   "metadata": {},
   "outputs": [
    {
     "name": "stdout",
     "output_type": "stream",
     "text": [
      "Spanish: Hola, ¿cómo estás?\n",
      "Arabic: مرحبا، كيف حالك؟\n",
      "--------------------------------------------------\n",
      "Spanish: El clima está muy agradable hoy.\n",
      "Arabic: الطقس جميل اليوم.\n",
      "--------------------------------------------------\n",
      "Spanish: Me gustaría visitar el museo mañana.\n",
      "Arabic: اود ان ازور المتحف غدا\n",
      "--------------------------------------------------\n"
     ]
    }
   ],
   "source": [
    "test_sentences = [\n",
    "    \"Hola, ¿cómo estás?\",\n",
    "    \"El clima está muy agradable hoy.\",\n",
    "    \"Me gustaría visitar el museo mañana.\"\n",
    "]\n",
    "\n",
    "for sentence in test_sentences:\n",
    "    translation = translate_spanish_to_arabic(sentence, model, tokenizer, device)\n",
    "    print(f\"Spanish: {sentence}\")\n",
    "    print(f\"Arabic: {translation}\")\n",
    "    print(\"-\" * 50)"
   ]
  },
  {
   "cell_type": "markdown",
   "id": "3724e8dc",
   "metadata": {},
   "source": [
    "### different beam search settings for generation"
   ]
  },
  {
   "cell_type": "code",
   "execution_count": 25,
   "id": "85112bf1",
   "metadata": {},
   "outputs": [
    {
     "name": "stdout",
     "output_type": "stream",
     "text": [
      "Testing different decoding strategies...\n",
      "\n",
      "Translating: tal vez debería saludar a los muftic.\n",
      "Greedy search: BLEU=6.57\n",
      "Translation: ربما يجب ان ارحب ب(مفتك)\n",
      "Beam search (5): BLEU=23.26\n",
      "Translation: ربما يجب ان اسلم علا المءتمرين\n",
      "Beam search with early stopping: BLEU=23.26\n",
      "Translation: ربما يجب ان اسلم علا المءتمرين\n",
      "Beam search with length penalty: BLEU=19.07\n",
      "Translation: ربما يجب ان اسلم علا ال(مفتك)\n",
      "Sampling (top-k + top-p): BLEU=23.26\n",
      "Translation: ربما يجب ان اسلم علا المءتمرين\n",
      "\n",
      "Translating: informe del secretario general sobre la consolidación de la paz después de los conflictos (s/2012/746)\n",
      "Greedy search: BLEU=76.60\n",
      "Translation: تقرير الامين العام عن بناء السلام بعد انتهاء النزاع (S/2012/746)\n",
      "Beam search (5): BLEU=76.60\n",
      "Translation: تقرير الامين العام عن بناء السلام بعد انتهاء النزاع (S/2012/746)\n",
      "Beam search with early stopping: BLEU=76.60\n",
      "Translation: تقرير الامين العام عن بناء السلام بعد انتهاء النزاع (S/2012/746)\n",
      "Beam search with length penalty: BLEU=76.60\n",
      "Translation: تقرير الامين العام عن بناء السلام بعد انتهاء النزاع (S/2012/746)\n",
      "Sampling (top-k + top-p): BLEU=76.60\n",
      "Translation: تقرير الامين العام عن بناء السلام بعد انتهاء النزاع (S/2012/746)\n",
      "\n",
      "Translating: - ¿te despidieron?\n",
      "Greedy search: BLEU=0.00\n",
      "Translation: -هل طردوك؟\n",
      "Beam search (5): BLEU=21.36\n",
      "Translation: ‫ - هل طردت؟‬ ‫\n",
      "Beam search with early stopping: BLEU=0.00\n",
      "Translation: -هل طردوك؟\n",
      "Beam search with length penalty: BLEU=13.13\n",
      "Translation: ‫ - هل طردت من العمل؟‬ ‫\n",
      "Sampling (top-k + top-p): BLEU=21.36\n",
      "Translation: ‫ - هل طردت؟‬ ‫\n",
      "\n",
      "Translating: por consiguiente, esperamos que la conferencia de doha aliente el logro de un consenso y conduzca a nuevos progresos a fin de establecer los mecanismos que la comunidad internacional necesita para enfrentar los problemas más apremiantes de la salud y el clima.\n",
      "Greedy search: BLEU=11.80\n",
      "Translation: ولذلك، يحدونا الأمل في ان يشجع مءتمر دوها التوصل الا توافق في الآراء، مما يؤدي الا احراز مزيد من التقدم في انشاء الاليات التي يحتاج اليها المجتمع الدولي لمواجهه اهم مشاكل الصحه والمناخ.\n",
      "Beam search (5): BLEU=13.52\n",
      "Translation: ولذلك، يحدونا الأمل في ان يشجع مءتمر دوها التوصل الا توافق في الاراء ويسفر عن مزيد من التقدم في انشاء الاليات التي يحتاج اليها المجتمع الدولي لمواجهه اهم مشاكل الصحه والمناخ.\n",
      "Beam search with early stopping: BLEU=13.52\n",
      "Translation: ولذلك، يحدونا الأمل في ان يشجع مءتمر دوها التوصل الا توافق في الاراء ويسفر عن مزيد من التقدم في انشاء الاليات التي يحتاج اليها المجتمع الدولي لمواجهه اهم مشاكل الصحه والمناخ.\n",
      "Beam search with length penalty: BLEU=13.41\n",
      "Translation: ولذلك، يحدونا الأمل في ان يشجع مءتمر دوها علا التوصل الا توافق في الاراء ويفضي الا احراز مزيد من التقدم في انشاء الاليات التي يحتاج اليها المجتمع الدولي لمواجهه اهم مشاكل الصحه والمناخ.\n",
      "Sampling (top-k + top-p): BLEU=13.29\n",
      "Translation: ولذلك، يحدونا الأمل في ان يشجع مءتمر دوها علا التوصل الا توافق في الاراء ويسفر عن مزيد من التقدم في انشاء الاليات التي يحتاج اليها المجتمع الدولي لمواجهه اهم مشاكل الصحه والمناخ.\n",
      "\n",
      "Translating: ello, a pesar de haberse dictado en el recurso una sentencia parcialmente estimatoria que rectifica, en beneficio de los autores, los hechos que la sentencia de primera instancia había declarado probados.\n",
      "Greedy search: BLEU=4.32\n",
      "Translation: وهذا، رغم صدور حكم جزئي في الاستئناف، يصحح، لصالح أصحاب البلاغ، الوقائع التي اقرها حكم المحكمه الاولا.\n",
      "Beam search (5): BLEU=4.30\n",
      "Translation: ورغم صدور حكم جزئي في الاستئناف يصحح، لصالح أصحاب البلاغ، الوقائع التي اقرها حكم المحكمه الاولا.\n",
      "Beam search with early stopping: BLEU=4.30\n",
      "Translation: ورغم صدور حكم جزئي في الاستئناف يصحح، لصالح أصحاب البلاغ، الوقائع التي اقرها حكم المحكمه الاولا.\n",
      "Beam search with length penalty: BLEU=4.33\n",
      "Translation: وهذا بالرغم من صدور حكم جزئي في الاستئناف يصحح، لصالح أصحاب البلاغ، الوقائع التي اقرها حكم المحكمه الاولا.\n",
      "Sampling (top-k + top-p): BLEU=4.30\n",
      "Translation: ورغم صدور حكم جزئي في الاستئناف يصحح، لصالح أصحاب البلاغ، الوقائع التي اقرها حكم المحكمه الاولا.\n",
      "\n",
      "Average BLEU by strategy:\n",
      "Beam search (5): 27.81\n",
      "Sampling (top-k + top-p): 27.76\n",
      "Beam search with length penalty: 25.31\n",
      "Beam search with early stopping: 23.53\n",
      "Greedy search: 19.86\n",
      "\n",
      "Best generation strategy: Beam search (5)\n"
     ]
    }
   ],
   "source": [
    "# Exploring different decoding strategies\n",
    "print(\"Testing different decoding strategies...\")\n",
    "\n",
    "test_sentences = test_df.head(5)[\"spanish\"].tolist()\n",
    "\n",
    "# Define different generation parameters to try\n",
    "generation_params = [\n",
    "    {\"num_beams\": 1, \"max_length\": 128, \"name\": \"Greedy search\"},\n",
    "    {\"num_beams\": 5, \"max_length\": 128, \"name\": \"Beam search (5)\"},\n",
    "    {\"num_beams\": 5, \"max_length\": 128, \"early_stopping\": True, \"name\": \"Beam search with early stopping\"},\n",
    "    {\"num_beams\": 5, \"max_length\": 128, \"length_penalty\": 1.5, \"name\": \"Beam search with length penalty\"},\n",
    "    {\"do_sample\": True, \"top_k\": 50, \"top_p\": 0.9, \"max_length\": 128, \"name\": \"Sampling (top-k + top-p)\"}\n",
    "]\n",
    "\n",
    "results = []\n",
    "\n",
    "for sentence in test_sentences:\n",
    "    print(f\"\\nTranslating: {sentence}\")\n",
    "    \n",
    "    inputs = tokenizer(sentence, return_tensors=\"pt\").to(device)\n",
    "    reference = test_df[test_df[\"spanish\"] == sentence][\"arabic\"].iloc[0]\n",
    "    \n",
    "    for param_dict in generation_params:\n",
    "        # Create a copy of the parameters to avoid modifying the original\n",
    "        params = param_dict.copy()\n",
    "        param_name = params.pop(\"name\")\n",
    "        \n",
    "        # Generate translation\n",
    "        outputs = model.generate(**inputs, **params)\n",
    "        translation = tokenizer.decode(outputs[0], skip_special_tokens=True)\n",
    "        \n",
    "        # Calculate BLEU\n",
    "        sentence_bleu = metric.compute(predictions=[translation], references=[[reference]])\n",
    "        \n",
    "        # Record results\n",
    "        results.append({\n",
    "            \"strategy\": param_name,\n",
    "            \"spanish\": sentence,\n",
    "            \"translation\": translation,\n",
    "            \"reference\": reference,\n",
    "            \"bleu\": sentence_bleu[\"score\"]\n",
    "        })\n",
    "        \n",
    "        print(f\"{param_name}: BLEU={sentence_bleu['score']:.2f}\")\n",
    "        print(f\"Translation: {translation}\")\n",
    "\n",
    "# Find the best strategy\n",
    "avg_bleu_by_strategy = {}\n",
    "for strategy in set(r[\"strategy\"] for r in results):\n",
    "    scores = [r[\"bleu\"] for r in results if r[\"strategy\"] == strategy]\n",
    "    avg_bleu_by_strategy[strategy] = sum(scores) / len(scores)\n",
    "\n",
    "print(\"\\nAverage BLEU by strategy:\")\n",
    "for strategy, score in sorted(avg_bleu_by_strategy.items(), key=lambda x: x[1], reverse=True):\n",
    "    print(f\"{strategy}: {score:.2f}\")\n",
    "\n",
    "# Save the best generation strategy for future use\n",
    "best_strategy = max(avg_bleu_by_strategy.items(), key=lambda x: x[1])[0]\n",
    "print(f\"\\nBest generation strategy: {best_strategy}\")"
   ]
  },
  {
   "cell_type": "code",
   "execution_count": 26,
   "id": "aa125886",
   "metadata": {},
   "outputs": [
    {
     "name": "stdout",
     "output_type": "stream",
     "text": [
      "Testing a different model...\n",
      "Error loading larger model: Helsinki-NLP/opus-mt-tc-big-es-ar is not a local folder and is not a valid model identifier listed on 'https://huggingface.co/models'\n",
      "If this is a private repository, make sure to pass a token having permission to this repo either by logging in with `huggingface-cli login` or by passing `token=<your_token>`\n",
      "Alternatives to try:\n",
      "1. Try M2M100 model instead\n",
      "2. Continue with current model but try different hyperparameters\n",
      "Successfully loaded M2M100 model: facebook/m2m100_418M\n",
      "\n",
      "Translating with M2M100: tal vez debería saludar a los muftic.\n",
      "Current model: BLEU=23.26\n",
      "Translation: ربما يجب ان اسلم علا المءتمرين\n",
      "M2M100 model: BLEU=5.82\n",
      "Translation: وربما ينبغي أن يهنئ الموتى.\n",
      "Reference: ربما ينبغي علي ان اسلم علا عاءله موفتكس\n",
      "\n",
      "Translating with M2M100: informe del secretario general sobre la consolidación de la paz después de los conflictos (s/2012/746)\n",
      "Current model: BLEU=76.60\n",
      "Translation: تقرير الامين العام عن بناء السلام بعد انتهاء النزاع (S/2012/746)\n",
      "M2M100 model: BLEU=24.94\n",
      "Translation: تقرير الأمين العام بشأن تعزيز السلام بعد النزاعات (ص/2012/746)\n",
      "Reference: تقرير الامين العام عن بناء السلام في اعقاب انتهاء النزاع (S/2012/746)\n",
      "\n",
      "Translating with M2M100: - ¿te despidieron?\n",
      "Current model: BLEU=21.36\n",
      "Translation: ‫ - هل طردت؟‬ ‫\n",
      "M2M100 model: BLEU=0.00\n",
      "Translation: هل تم طردك؟\n",
      "Reference: - هل طردت؟\n",
      "\n",
      "Translating with M2M100: por consiguiente, esperamos que la conferencia de doha aliente el logro de un consenso y conduzca a nuevos progresos a fin de establecer los mecanismos que la comunidad internacional necesita para enfrentar los problemas más apremiantes de la salud y el clima.\n",
      "Current model: BLEU=13.52\n",
      "Translation: ولذلك، يحدونا الأمل في ان يشجع مءتمر دوها التوصل الا توافق في الاراء ويسفر عن مزيد من التقدم في انشاء الاليات التي يحتاج اليها المجتمع الدولي لمواجهه اهم مشاكل الصحه والمناخ.\n",
      "M2M100 model: BLEU=8.98\n",
      "Translation: وبالتالي، نأمل أن تشجع مؤتمر الدوحة على التوصل إلى اتفاق وتؤدي إلى تقدم جديد من أجل وضع الآليات التي يحتاجها المجتمع الدولي لمواجهة المشاكل الصحية والمناخية الأكثر أهمية.\n",
      "Reference: وعليه، نرجو ان يشجع مءتمر الدوحه علا ظهور توافق في الاراء وان يءدي الا احراز تقدم جديد صوب انشاء الاليات التي يحتاجها المجتمع الدولي للتصدي للتحديات الرءيسيه في مجال الصحه والمناخ.\n",
      "\n",
      "Translating with M2M100: ello, a pesar de haberse dictado en el recurso una sentencia parcialmente estimatoria que rectifica, en beneficio de los autores, los hechos que la sentencia de primera instancia había declarado probados.\n",
      "Current model: BLEU=4.30\n",
      "Translation: ورغم صدور حكم جزئي في الاستئناف يصحح، لصالح أصحاب البلاغ، الوقائع التي اقرها حكم المحكمه الاولا.\n",
      "M2M100 model: BLEU=1.73\n",
      "Translation: هذا، على الرغم من أن محاكمته قد أصدرت حكمًا تقديرًا جزئيًا يحدد، لصالح المؤلفين، الحقائق التي أعلنتها محاكمة المحاكمة الأولى مؤكدة.\n",
      "Reference: ولكن الحكم الذي صدر عقب تقديم طلب استءناف انصفهما جزءيا وعدل لصالحهما حقاءق اعلن ثبوتها في حكم المحكمه الادنا درجه.\n"
     ]
    }
   ],
   "source": [
    "# Try a different MarianMT model\n",
    "print(\"Testing a different model...\")\n",
    "\n",
    "# Some possible alternative models to try:\n",
    "# 1. Helsinki-NLP/opus-mt-es-ar (your current model)\n",
    "# 2. Helsinki-NLP/opus-mt-tc-big-es-ar (if available - bigger model)\n",
    "# 3. Facebook's M2M100 (fallback if no larger Marian model exists)\n",
    "\n",
    "try:\n",
    "    # Try to load a larger model\n",
    "    large_model_name = \"Helsinki-NLP/opus-mt-tc-big-es-ar\"\n",
    "    large_tokenizer = MarianTokenizer.from_pretrained(large_model_name)\n",
    "    large_model = MarianMTModel.from_pretrained(large_model_name)\n",
    "    large_model.to(device)\n",
    "    \n",
    "    print(f\"Successfully loaded larger model: {large_model_name}\")\n",
    "    \n",
    "    # Test the model on a few examples\n",
    "    for sentence in test_sentences:\n",
    "        print(f\"\\nTranslating with larger model: {sentence}\")\n",
    "        \n",
    "        # Current model\n",
    "        inputs = tokenizer(sentence, return_tensors=\"pt\").to(device)\n",
    "        outputs = model.generate(**inputs, num_beams=5, max_length=128)\n",
    "        translation = tokenizer.decode(outputs[0], skip_special_tokens=True)\n",
    "        \n",
    "        # New larger model\n",
    "        large_inputs = large_tokenizer(sentence, return_tensors=\"pt\").to(device)\n",
    "        large_outputs = large_model.generate(**large_inputs, num_beams=5, max_length=128)\n",
    "        large_translation = large_tokenizer.decode(large_outputs[0], skip_special_tokens=True)\n",
    "        \n",
    "        # Reference\n",
    "        reference = test_df[test_df[\"spanish\"] == sentence][\"arabic\"].iloc[0]\n",
    "        \n",
    "        # Calculate BLEU\n",
    "        bleu_current = metric.compute(predictions=[translation], references=[[reference]])\n",
    "        bleu_large = metric.compute(predictions=[large_translation], references=[[reference]])\n",
    "        \n",
    "        print(f\"Current model: BLEU={bleu_current['score']:.2f}\")\n",
    "        print(f\"Translation: {translation}\")\n",
    "        print(f\"Larger model: BLEU={bleu_large['score']:.2f}\")\n",
    "        print(f\"Translation: {large_translation}\")\n",
    "        print(f\"Reference: {reference}\")\n",
    "\n",
    "except Exception as e:\n",
    "    print(f\"Error loading larger model: {e}\")\n",
    "    print(\"Alternatives to try:\")\n",
    "    print(\"1. Try M2M100 model instead\")\n",
    "    print(\"2. Continue with current model but try different hyperparameters\")\n",
    "    \n",
    "    # If the large model isn't available, try M2M100 as fallback\n",
    "    try:\n",
    "        from transformers import M2M100ForConditionalGeneration, M2M100Tokenizer\n",
    "        \n",
    "        m2m_model_name = \"facebook/m2m100_418M\"\n",
    "        m2m_tokenizer = M2M100Tokenizer.from_pretrained(m2m_model_name)\n",
    "        m2m_model = M2M100ForConditionalGeneration.from_pretrained(m2m_model_name)\n",
    "        m2m_model.to(device)\n",
    "        \n",
    "        print(f\"Successfully loaded M2M100 model: {m2m_model_name}\")\n",
    "        \n",
    "        # Test the M2M100 model\n",
    "        for sentence in test_sentences:\n",
    "            print(f\"\\nTranslating with M2M100: {sentence}\")\n",
    "            \n",
    "            # Current MarianMT model\n",
    "            inputs = tokenizer(sentence, return_tensors=\"pt\").to(device)\n",
    "            outputs = model.generate(**inputs, num_beams=5, max_length=128)\n",
    "            translation = tokenizer.decode(outputs[0], skip_special_tokens=True)\n",
    "            \n",
    "            # M2M100 model\n",
    "            m2m_tokenizer.src_lang = \"es\"\n",
    "            m2m_inputs = m2m_tokenizer(sentence, return_tensors=\"pt\").to(device)\n",
    "            m2m_outputs = m2m_model.generate(\n",
    "                **m2m_inputs, \n",
    "                forced_bos_token_id=m2m_tokenizer.get_lang_id(\"ar\"),\n",
    "                num_beams=5, \n",
    "                max_length=128\n",
    "            )\n",
    "            m2m_translation = m2m_tokenizer.decode(m2m_outputs[0], skip_special_tokens=True)\n",
    "            \n",
    "            # Reference\n",
    "            reference = test_df[test_df[\"spanish\"] == sentence][\"arabic\"].iloc[0]\n",
    "            \n",
    "            # Calculate BLEU\n",
    "            bleu_current = metric.compute(predictions=[translation], references=[[reference]])\n",
    "            bleu_m2m = metric.compute(predictions=[m2m_translation], references=[[reference]])\n",
    "            \n",
    "            print(f\"Current model: BLEU={bleu_current['score']:.2f}\")\n",
    "            print(f\"Translation: {translation}\")\n",
    "            print(f\"M2M100 model: BLEU={bleu_m2m['score']:.2f}\")\n",
    "            print(f\"Translation: {m2m_translation}\")\n",
    "            print(f\"Reference: {reference}\")\n",
    "            \n",
    "    except Exception as e2:\n",
    "        print(f\"Error loading M2M100 model: {e2}\")"
   ]
  },
  {
   "cell_type": "code",
   "execution_count": 27,
   "id": "5cdc7f53",
   "metadata": {},
   "outputs": [],
   "source": [
    "# Function to log experiments\n",
    "def log_experiment(name, params, metrics):\n",
    "    \"\"\"Log experiment details to CSV file.\"\"\"\n",
    "    # Prepare data\n",
    "    data = {\n",
    "        \"timestamp\": datetime.now().strftime(\"%Y-%m-%d %H:%M:%S\"),\n",
    "        \"experiment\": name\n",
    "    }\n",
    "    \n",
    "    # Add parameters and metrics\n",
    "    for k, v in params.items():\n",
    "        data[f\"param_{k}\"] = v\n",
    "    for k, v in metrics.items():\n",
    "        data[f\"metric_{k}\"] = v\n",
    "    \n",
    "    # Create DataFrame\n",
    "    df = pd.DataFrame([data])\n",
    "    \n",
    "    # Save to CSV\n",
    "    filename = \"experiment_log.csv\"\n",
    "    if os.path.exists(filename):\n",
    "        df.to_csv(filename, mode='a', header=False, index=False)\n",
    "    else:\n",
    "        df.to_csv(filename, index=False)\n",
    "    \n",
    "    print(f\"Logged experiment '{name}' to {filename}\")"
   ]
  },
  {
   "cell_type": "code",
   "execution_count": 28,
   "id": "292d2e36",
   "metadata": {},
   "outputs": [
    {
     "name": "stdout",
     "output_type": "stream",
     "text": [
      "\n",
      "Testing configuration: lr_5e-05_bs_16\n"
     ]
    },
    {
     "name": "stderr",
     "output_type": "stream",
     "text": [
      "/tmp/ipykernel_342921/1727165376.py:36: FutureWarning: `tokenizer` is deprecated and will be removed in version 5.0.0 for `Seq2SeqTrainer.__init__`. Use `processing_class` instead.\n",
      "  trainer = Seq2SeqTrainer(\n",
      "Detected kernel version 4.18.0, which is below the recommended minimum of 5.5.0; this can cause the process to hang. It is recommended to upgrade the kernel to the minimum version or higher.\n",
      "/home/maquiroz/miniconda3/envs/spanish_arabic/lib/python3.9/site-packages/torch/nn/parallel/_functions.py:71: UserWarning: Was asked to gather along dimension 0, but all input tensors were scalars; will instead unsqueeze and return a vector.\n",
      "  warnings.warn(\n"
     ]
    },
    {
     "data": {
      "text/html": [
       "\n",
       "    <div>\n",
       "      \n",
       "      <progress value='248' max='248' style='width:300px; height:20px; vertical-align: middle;'></progress>\n",
       "      [248/248 16:46, Epoch 2/2]\n",
       "    </div>\n",
       "    <table border=\"1\" class=\"dataframe\">\n",
       "  <thead>\n",
       " <tr style=\"text-align: left;\">\n",
       "      <th>Epoch</th>\n",
       "      <th>Training Loss</th>\n",
       "      <th>Validation Loss</th>\n",
       "      <th>Bleu</th>\n",
       "    </tr>\n",
       "  </thead>\n",
       "  <tbody>\n",
       "    <tr>\n",
       "      <td>1</td>\n",
       "      <td>No log</td>\n",
       "      <td>0.318492</td>\n",
       "      <td>11.776267</td>\n",
       "    </tr>\n",
       "    <tr>\n",
       "      <td>2</td>\n",
       "      <td>No log</td>\n",
       "      <td>0.309439</td>\n",
       "      <td>16.749068</td>\n",
       "    </tr>\n",
       "  </tbody>\n",
       "</table><p>"
      ],
      "text/plain": [
       "<IPython.core.display.HTML object>"
      ]
     },
     "metadata": {},
     "output_type": "display_data"
    },
    {
     "name": "stderr",
     "output_type": "stream",
     "text": [
      "/home/maquiroz/miniconda3/envs/spanish_arabic/lib/python3.9/site-packages/transformers/modeling_utils.py:3339: UserWarning: Moving the following attributes in the config to the generation config: {'max_length': 512, 'num_beams': 4, 'bad_words_ids': [[62517]]}. You are seeing this warning because you've set generation parameters in the model config, as opposed to in the generation config.\n",
      "  warnings.warn(\n",
      "/home/maquiroz/miniconda3/envs/spanish_arabic/lib/python3.9/site-packages/torch/nn/parallel/_functions.py:71: UserWarning: Was asked to gather along dimension 0, but all input tensors were scalars; will instead unsqueeze and return a vector.\n",
      "  warnings.warn(\n"
     ]
    },
    {
     "data": {
      "text/html": [
       "\n",
       "    <div>\n",
       "      \n",
       "      <progress value='16' max='16' style='width:300px; height:20px; vertical-align: middle;'></progress>\n",
       "      [16/16 05:32]\n",
       "    </div>\n",
       "    "
      ],
      "text/plain": [
       "<IPython.core.display.HTML object>"
      ]
     },
     "metadata": {},
     "output_type": "display_data"
    },
    {
     "name": "stdout",
     "output_type": "stream",
     "text": [
      "Logged experiment 'lr_5e-05_bs_16' to experiment_log.csv\n",
      "Configuration lr_5e-05_bs_16 results:\n",
      "BLEU: 16.75\n",
      "Loss: 0.3094\n",
      "Training time: 16.82 minutes\n",
      "\n",
      "Testing configuration: lr_0.0001_bs_16\n"
     ]
    },
    {
     "name": "stderr",
     "output_type": "stream",
     "text": [
      "/tmp/ipykernel_342921/1727165376.py:36: FutureWarning: `tokenizer` is deprecated and will be removed in version 5.0.0 for `Seq2SeqTrainer.__init__`. Use `processing_class` instead.\n",
      "  trainer = Seq2SeqTrainer(\n",
      "Detected kernel version 4.18.0, which is below the recommended minimum of 5.5.0; this can cause the process to hang. It is recommended to upgrade the kernel to the minimum version or higher.\n",
      "/home/maquiroz/miniconda3/envs/spanish_arabic/lib/python3.9/site-packages/torch/nn/parallel/_functions.py:71: UserWarning: Was asked to gather along dimension 0, but all input tensors were scalars; will instead unsqueeze and return a vector.\n",
      "  warnings.warn(\n"
     ]
    },
    {
     "data": {
      "text/html": [
       "\n",
       "    <div>\n",
       "      \n",
       "      <progress value='248' max='248' style='width:300px; height:20px; vertical-align: middle;'></progress>\n",
       "      [248/248 16:42, Epoch 2/2]\n",
       "    </div>\n",
       "    <table border=\"1\" class=\"dataframe\">\n",
       "  <thead>\n",
       " <tr style=\"text-align: left;\">\n",
       "      <th>Epoch</th>\n",
       "      <th>Training Loss</th>\n",
       "      <th>Validation Loss</th>\n",
       "      <th>Bleu</th>\n",
       "    </tr>\n",
       "  </thead>\n",
       "  <tbody>\n",
       "    <tr>\n",
       "      <td>1</td>\n",
       "      <td>No log</td>\n",
       "      <td>0.305932</td>\n",
       "      <td>21.377824</td>\n",
       "    </tr>\n",
       "    <tr>\n",
       "      <td>2</td>\n",
       "      <td>No log</td>\n",
       "      <td>0.298844</td>\n",
       "      <td>23.565647</td>\n",
       "    </tr>\n",
       "  </tbody>\n",
       "</table><p>"
      ],
      "text/plain": [
       "<IPython.core.display.HTML object>"
      ]
     },
     "metadata": {},
     "output_type": "display_data"
    },
    {
     "name": "stderr",
     "output_type": "stream",
     "text": [
      "/home/maquiroz/miniconda3/envs/spanish_arabic/lib/python3.9/site-packages/transformers/modeling_utils.py:3339: UserWarning: Moving the following attributes in the config to the generation config: {'max_length': 512, 'num_beams': 4, 'bad_words_ids': [[62517]]}. You are seeing this warning because you've set generation parameters in the model config, as opposed to in the generation config.\n",
      "  warnings.warn(\n",
      "/home/maquiroz/miniconda3/envs/spanish_arabic/lib/python3.9/site-packages/torch/nn/parallel/_functions.py:71: UserWarning: Was asked to gather along dimension 0, but all input tensors were scalars; will instead unsqueeze and return a vector.\n",
      "  warnings.warn(\n"
     ]
    },
    {
     "data": {
      "text/html": [
       "\n",
       "    <div>\n",
       "      \n",
       "      <progress value='16' max='16' style='width:300px; height:20px; vertical-align: middle;'></progress>\n",
       "      [16/16 05:19]\n",
       "    </div>\n",
       "    "
      ],
      "text/plain": [
       "<IPython.core.display.HTML object>"
      ]
     },
     "metadata": {},
     "output_type": "display_data"
    },
    {
     "name": "stdout",
     "output_type": "stream",
     "text": [
      "Logged experiment 'lr_0.0001_bs_16' to experiment_log.csv\n",
      "Configuration lr_0.0001_bs_16 results:\n",
      "BLEU: 23.57\n",
      "Loss: 0.2988\n",
      "Training time: 16.75 minutes\n",
      "\n",
      "Testing configuration: lr_1e-05_bs_16\n"
     ]
    },
    {
     "name": "stderr",
     "output_type": "stream",
     "text": [
      "/tmp/ipykernel_342921/1727165376.py:36: FutureWarning: `tokenizer` is deprecated and will be removed in version 5.0.0 for `Seq2SeqTrainer.__init__`. Use `processing_class` instead.\n",
      "  trainer = Seq2SeqTrainer(\n",
      "Detected kernel version 4.18.0, which is below the recommended minimum of 5.5.0; this can cause the process to hang. It is recommended to upgrade the kernel to the minimum version or higher.\n",
      "/home/maquiroz/miniconda3/envs/spanish_arabic/lib/python3.9/site-packages/torch/nn/parallel/_functions.py:71: UserWarning: Was asked to gather along dimension 0, but all input tensors were scalars; will instead unsqueeze and return a vector.\n",
      "  warnings.warn(\n"
     ]
    },
    {
     "data": {
      "text/html": [
       "\n",
       "    <div>\n",
       "      \n",
       "      <progress value='248' max='248' style='width:300px; height:20px; vertical-align: middle;'></progress>\n",
       "      [248/248 16:43, Epoch 2/2]\n",
       "    </div>\n",
       "    <table border=\"1\" class=\"dataframe\">\n",
       "  <thead>\n",
       " <tr style=\"text-align: left;\">\n",
       "      <th>Epoch</th>\n",
       "      <th>Training Loss</th>\n",
       "      <th>Validation Loss</th>\n",
       "      <th>Bleu</th>\n",
       "    </tr>\n",
       "  </thead>\n",
       "  <tbody>\n",
       "    <tr>\n",
       "      <td>1</td>\n",
       "      <td>No log</td>\n",
       "      <td>0.398842</td>\n",
       "      <td>8.408412</td>\n",
       "    </tr>\n",
       "    <tr>\n",
       "      <td>2</td>\n",
       "      <td>No log</td>\n",
       "      <td>0.373987</td>\n",
       "      <td>10.379518</td>\n",
       "    </tr>\n",
       "  </tbody>\n",
       "</table><p>"
      ],
      "text/plain": [
       "<IPython.core.display.HTML object>"
      ]
     },
     "metadata": {},
     "output_type": "display_data"
    },
    {
     "name": "stderr",
     "output_type": "stream",
     "text": [
      "/home/maquiroz/miniconda3/envs/spanish_arabic/lib/python3.9/site-packages/transformers/modeling_utils.py:3339: UserWarning: Moving the following attributes in the config to the generation config: {'max_length': 512, 'num_beams': 4, 'bad_words_ids': [[62517]]}. You are seeing this warning because you've set generation parameters in the model config, as opposed to in the generation config.\n",
      "  warnings.warn(\n",
      "/home/maquiroz/miniconda3/envs/spanish_arabic/lib/python3.9/site-packages/torch/nn/parallel/_functions.py:71: UserWarning: Was asked to gather along dimension 0, but all input tensors were scalars; will instead unsqueeze and return a vector.\n",
      "  warnings.warn(\n"
     ]
    },
    {
     "data": {
      "text/html": [
       "\n",
       "    <div>\n",
       "      \n",
       "      <progress value='16' max='16' style='width:300px; height:20px; vertical-align: middle;'></progress>\n",
       "      [16/16 05:27]\n",
       "    </div>\n",
       "    "
      ],
      "text/plain": [
       "<IPython.core.display.HTML object>"
      ]
     },
     "metadata": {},
     "output_type": "display_data"
    },
    {
     "name": "stdout",
     "output_type": "stream",
     "text": [
      "Logged experiment 'lr_1e-05_bs_16' to experiment_log.csv\n",
      "Configuration lr_1e-05_bs_16 results:\n",
      "BLEU: 10.38\n",
      "Loss: 0.3740\n",
      "Training time: 16.78 minutes\n",
      "\n",
      "Testing configuration: lr_5e-05_bs_32\n"
     ]
    },
    {
     "name": "stderr",
     "output_type": "stream",
     "text": [
      "/tmp/ipykernel_342921/1727165376.py:36: FutureWarning: `tokenizer` is deprecated and will be removed in version 5.0.0 for `Seq2SeqTrainer.__init__`. Use `processing_class` instead.\n",
      "  trainer = Seq2SeqTrainer(\n",
      "Detected kernel version 4.18.0, which is below the recommended minimum of 5.5.0; this can cause the process to hang. It is recommended to upgrade the kernel to the minimum version or higher.\n",
      "/home/maquiroz/miniconda3/envs/spanish_arabic/lib/python3.9/site-packages/torch/nn/parallel/_functions.py:71: UserWarning: Was asked to gather along dimension 0, but all input tensors were scalars; will instead unsqueeze and return a vector.\n",
      "  warnings.warn(\n"
     ]
    },
    {
     "data": {
      "text/html": [
       "\n",
       "    <div>\n",
       "      \n",
       "      <progress value='63' max='124' style='width:300px; height:20px; vertical-align: middle;'></progress>\n",
       "      [ 63/124 01:47 < 01:47, 0.57 it/s, Epoch 1/2]\n",
       "    </div>\n",
       "    <table border=\"1\" class=\"dataframe\">\n",
       "  <thead>\n",
       " <tr style=\"text-align: left;\">\n",
       "      <th>Epoch</th>\n",
       "      <th>Training Loss</th>\n",
       "      <th>Validation Loss</th>\n",
       "    </tr>\n",
       "  </thead>\n",
       "  <tbody>\n",
       "  </tbody>\n",
       "</table><p>"
      ],
      "text/plain": [
       "<IPython.core.display.HTML object>"
      ]
     },
     "metadata": {},
     "output_type": "display_data"
    },
    {
     "name": "stdout",
     "output_type": "stream",
     "text": [
      "Error with configuration lr_5e-05_bs_32: CUDA out of memory. Tried to allocate 434.00 MiB. GPU 0 has a total capacity of 23.46 GiB of which 425.94 MiB is free. Including non-PyTorch memory, this process has 23.04 GiB memory in use. Of the allocated memory 21.02 GiB is allocated by PyTorch, and 1.74 GiB is reserved by PyTorch but unallocated. If reserved but unallocated memory is large try setting PYTORCH_CUDA_ALLOC_CONF=expandable_segments:True to avoid fragmentation.  See documentation for Memory Management  (https://pytorch.org/docs/stable/notes/cuda.html#environment-variables)\n",
      "\n",
      "Best configuration:\n",
      "Learning rate: 0.0001\n",
      "Batch size: 16\n",
      "BLEU: 23.57\n",
      "Training time: 16.75 minutes\n"
     ]
    },
    {
     "data": {
      "image/png": "[encoded data removed]",
      "text/plain": [
       "<Figure size 1000x600 with 1 Axes>"
      ]
     },
     "metadata": {},
     "output_type": "display_data"
    }
   ],
   "source": [
    "# Define hyperparameter combinations to try\n",
    "configs = [\n",
    "    {\"learning_rate\": 5e-5, \"batch_size\": 16, \"epochs\": 2},  # original configuration\n",
    "    {\"learning_rate\": 1e-4, \"batch_size\": 16, \"epochs\": 2},  # Higher learning rate\n",
    "    {\"learning_rate\": 1e-5, \"batch_size\": 16, \"epochs\": 2},  # Lower learning rate\n",
    "    {\"learning_rate\": 5e-5, \"batch_size\": 32, \"epochs\": 2},  # Larger batch size (if GPU memory allows)\n",
    "]\n",
    "\n",
    "# Run experiments\n",
    "results = []\n",
    "for config in configs:\n",
    "    config_name = f\"lr_{config['learning_rate']}_bs_{config['batch_size']}\"\n",
    "    print(f\"\\nTesting configuration: {config_name}\")\n",
    "    \n",
    "    try:\n",
    "        # Load a fresh model\n",
    "        fresh_model = MarianMTModel.from_pretrained(\"Helsinki-NLP/opus-mt-es-ar\")\n",
    "        fresh_model.to(device)\n",
    "        \n",
    "        # Create training arguments\n",
    "        training_args = Seq2SeqTrainingArguments(\n",
    "            output_dir=f\"./results/{config_name}\",\n",
    "            eval_strategy=\"epoch\",\n",
    "            learning_rate=config[\"learning_rate\"],\n",
    "            per_device_train_batch_size=config[\"batch_size\"],\n",
    "            per_device_eval_batch_size=config[\"batch_size\"],\n",
    "            weight_decay=0.01,\n",
    "            save_total_limit=1,\n",
    "            num_train_epochs=config[\"epochs\"],\n",
    "            predict_with_generate=True,\n",
    "            fp16=True,\n",
    "            report_to=None\n",
    "        )\n",
    "        \n",
    "        # Create trainer\n",
    "        trainer = Seq2SeqTrainer(\n",
    "            model=fresh_model,\n",
    "            args=training_args,\n",
    "            train_dataset=tokenized_datasets[\"train\"],\n",
    "            eval_dataset=tokenized_datasets[\"validation\"],\n",
    "            tokenizer=tokenizer,\n",
    "            data_collator=data_collator,\n",
    "            compute_metrics=compute_metrics,\n",
    "        )\n",
    "        \n",
    "        # Train and time it\n",
    "        start_time = time.time()\n",
    "        trainer.train()\n",
    "        train_time = (time.time() - start_time) / 60  # in minutes\n",
    "        \n",
    "        # Evaluate\n",
    "        eval_result = trainer.evaluate()\n",
    "        \n",
    "        # Record results\n",
    "        result = {\n",
    "            \"learning_rate\": config[\"learning_rate\"],\n",
    "            \"batch_size\": config[\"batch_size\"],\n",
    "            \"epochs\": config[\"epochs\"],\n",
    "            \"bleu\": eval_result[\"eval_bleu\"],\n",
    "            \"eval_loss\": eval_result[\"eval_loss\"],\n",
    "            \"train_time_mins\": train_time\n",
    "        }\n",
    "        results.append(result)\n",
    "        \n",
    "        # Log experiment\n",
    "        log_experiment(\n",
    "            config_name,\n",
    "            {\"learning_rate\": config[\"learning_rate\"], \n",
    "             \"batch_size\": config[\"batch_size\"], \n",
    "             \"epochs\": config[\"epochs\"]},\n",
    "            {\"bleu\": eval_result[\"eval_bleu\"], \n",
    "             \"eval_loss\": eval_result[\"eval_loss\"], \n",
    "             \"train_time\": train_time}\n",
    "        )\n",
    "        \n",
    "        print(f\"Configuration {config_name} results:\")\n",
    "        print(f\"BLEU: {eval_result['eval_bleu']:.2f}\")\n",
    "        print(f\"Loss: {eval_result['eval_loss']:.4f}\")\n",
    "        print(f\"Training time: {train_time:.2f} minutes\")\n",
    "        \n",
    "    except Exception as e:\n",
    "        print(f\"Error with configuration {config_name}: {e}\")\n",
    "\n",
    "# Find best configuration\n",
    "if results:\n",
    "    best_result = max(results, key=lambda x: x[\"bleu\"])\n",
    "    print(\"\\nBest configuration:\")\n",
    "    print(f\"Learning rate: {best_result['learning_rate']}\")\n",
    "    print(f\"Batch size: {best_result['batch_size']}\")\n",
    "    print(f\"BLEU: {best_result['bleu']:.2f}\")\n",
    "    print(f\"Training time: {best_result['train_time_mins']:.2f} minutes\")\n",
    "    \n",
    "    # Visualize results\n",
    "    import matplotlib.pyplot as plt\n",
    "    \n",
    "    plt.figure(figsize=(10, 6))\n",
    "    plt.bar(\n",
    "        [f\"lr={r['learning_rate']}, bs={r['batch_size']}\" for r in results],\n",
    "        [r[\"bleu\"] for r in results]\n",
    "    )\n",
    "    plt.xlabel(\"Configuration\")\n",
    "    plt.ylabel(\"BLEU Score\")\n",
    "    plt.title(\"BLEU Score by Hyperparameter Configuration\")\n",
    "    plt.xticks(rotation=45)\n",
    "    plt.tight_layout()\n",
    "    plt.savefig(\"hyperparameter_comparison.png\")\n",
    "    plt.show()"
   ]
  },
  {
   "cell_type": "code",
   "execution_count": 29,
   "id": "e9be2090",
   "metadata": {},
   "outputs": [],
   "source": [
    "# Train final model with best hyperparameters\n",
    "def train_final_model(learning_rate, batch_size, epochs=4):\n",
    "    print(f\"Training final model with lr={learning_rate}, bs={batch_size}, epochs={epochs}\")\n",
    "    \n",
    "    # Load a fresh model\n",
    "    final_model = MarianMTModel.from_pretrained(\"Helsinki-NLP/opus-mt-es-ar\")\n",
    "    final_model.to(device)\n",
    "    \n",
    "    # Create training arguments\n",
    "    training_args = Seq2SeqTrainingArguments(\n",
    "        output_dir=\"./results/final_model\",\n",
    "        eval_strategy=\"epoch\",\n",
    "        learning_rate=learning_rate,\n",
    "        per_device_train_batch_size=batch_size,\n",
    "        per_device_eval_batch_size=batch_size,\n",
    "        weight_decay=0.01,\n",
    "        save_total_limit=1,\n",
    "        num_train_epochs=epochs,\n",
    "        predict_with_generate=True,\n",
    "        fp16=True,\n",
    "        report_to=None\n",
    "    )\n",
    "    \n",
    "    # Create trainer\n",
    "    trainer = Seq2SeqTrainer(\n",
    "        model=final_model,\n",
    "        args=training_args,\n",
    "        train_dataset=tokenized_datasets[\"train\"],\n",
    "        eval_dataset=tokenized_datasets[\"validation\"],\n",
    "        tokenizer=tokenizer,\n",
    "        data_collator=data_collator,\n",
    "        compute_metrics=compute_metrics,\n",
    "    )\n",
    "    \n",
    "    # Train\n",
    "    trainer.train()\n",
    "    \n",
    "    # Evaluate on validation set\n",
    "    val_results = trainer.evaluate()\n",
    "    print(f\"Validation results: {val_results}\")\n",
    "    \n",
    "    # Evaluate on test set\n",
    "    test_results = trainer.evaluate(tokenized_datasets[\"test\"])\n",
    "    print(f\"Test results: {test_results}\")\n",
    "    \n",
    "    # Save model\n",
    "    model_save_path = \"./models/final_model\"\n",
    "    trainer.save_model(model_save_path)\n",
    "    tokenizer.save_pretrained(model_save_path)\n",
    "    print(f\"Final model saved to {model_save_path}\")\n",
    "    \n",
    "    return final_model, val_results, test_results"
   ]
  },
  {
   "cell_type": "code",
   "execution_count": 34,
   "id": "e32f6aba",
   "metadata": {},
   "outputs": [],
   "source": [
    "# Replace these with the best values from your hyperparameter search\n",
    "best_lr = 0.0001\n",
    "best_bs = 16   "
   ]
  },
  {
   "cell_type": "code",
   "execution_count": 35,
   "id": "017f5388",
   "metadata": {},
   "outputs": [
    {
     "name": "stdout",
     "output_type": "stream",
     "text": [
      "Training final model with lr=0.0001, bs=16, epochs=4\n"
     ]
    },
    {
     "name": "stderr",
     "output_type": "stream",
     "text": [
      "/tmp/ipykernel_342921/2017205803.py:25: FutureWarning: `tokenizer` is deprecated and will be removed in version 5.0.0 for `Seq2SeqTrainer.__init__`. Use `processing_class` instead.\n",
      "  trainer = Seq2SeqTrainer(\n",
      "Detected kernel version 4.18.0, which is below the recommended minimum of 5.5.0; this can cause the process to hang. It is recommended to upgrade the kernel to the minimum version or higher.\n",
      "/home/maquiroz/miniconda3/envs/spanish_arabic/lib/python3.9/site-packages/torch/nn/parallel/_functions.py:71: UserWarning: Was asked to gather along dimension 0, but all input tensors were scalars; will instead unsqueeze and return a vector.\n",
      "  warnings.warn(\n"
     ]
    },
    {
     "data": {
      "text/html": [
       "\n",
       "    <div>\n",
       "      \n",
       "      <progress value='496' max='496' style='width:300px; height:20px; vertical-align: middle;'></progress>\n",
       "      [496/496 33:32, Epoch 4/4]\n",
       "    </div>\n",
       "    <table border=\"1\" class=\"dataframe\">\n",
       "  <thead>\n",
       " <tr style=\"text-align: left;\">\n",
       "      <th>Epoch</th>\n",
       "      <th>Training Loss</th>\n",
       "      <th>Validation Loss</th>\n",
       "      <th>Bleu</th>\n",
       "    </tr>\n",
       "  </thead>\n",
       "  <tbody>\n",
       "    <tr>\n",
       "      <td>1</td>\n",
       "      <td>No log</td>\n",
       "      <td>0.304799</td>\n",
       "      <td>23.718204</td>\n",
       "    </tr>\n",
       "    <tr>\n",
       "      <td>2</td>\n",
       "      <td>No log</td>\n",
       "      <td>0.295847</td>\n",
       "      <td>23.488616</td>\n",
       "    </tr>\n",
       "    <tr>\n",
       "      <td>3</td>\n",
       "      <td>No log</td>\n",
       "      <td>0.294870</td>\n",
       "      <td>23.255984</td>\n",
       "    </tr>\n",
       "    <tr>\n",
       "      <td>4</td>\n",
       "      <td>No log</td>\n",
       "      <td>0.295091</td>\n",
       "      <td>24.102764</td>\n",
       "    </tr>\n",
       "  </tbody>\n",
       "</table><p>"
      ],
      "text/plain": [
       "<IPython.core.display.HTML object>"
      ]
     },
     "metadata": {},
     "output_type": "display_data"
    },
    {
     "name": "stderr",
     "output_type": "stream",
     "text": [
      "/home/maquiroz/miniconda3/envs/spanish_arabic/lib/python3.9/site-packages/transformers/modeling_utils.py:3339: UserWarning: Moving the following attributes in the config to the generation config: {'max_length': 512, 'num_beams': 4, 'bad_words_ids': [[62517]]}. You are seeing this warning because you've set generation parameters in the model config, as opposed to in the generation config.\n",
      "  warnings.warn(\n",
      "/home/maquiroz/miniconda3/envs/spanish_arabic/lib/python3.9/site-packages/torch/nn/parallel/_functions.py:71: UserWarning: Was asked to gather along dimension 0, but all input tensors were scalars; will instead unsqueeze and return a vector.\n",
      "  warnings.warn(\n"
     ]
    },
    {
     "data": {
      "text/html": [
       "\n",
       "    <div>\n",
       "      \n",
       "      <progress value='32' max='16' style='width:300px; height:20px; vertical-align: middle;'></progress>\n",
       "      [16/16 11:44]\n",
       "    </div>\n",
       "    "
      ],
      "text/plain": [
       "<IPython.core.display.HTML object>"
      ]
     },
     "metadata": {},
     "output_type": "display_data"
    },
    {
     "name": "stdout",
     "output_type": "stream",
     "text": [
      "Validation results: {'eval_loss': 0.29509130120277405, 'eval_bleu': 24.10276445831119, 'eval_runtime': 371.9265, 'eval_samples_per_second': 4.657, 'eval_steps_per_second': 0.043, 'epoch': 4.0}\n",
      "Test results: {'eval_loss': 0.30433565378189087, 'eval_bleu': 23.72718282055076, 'eval_runtime': 372.6428, 'eval_samples_per_second': 4.648, 'eval_steps_per_second': 0.043, 'epoch': 4.0}\n",
      "Final model saved to ./models/final_model\n"
     ]
    }
   ],
   "source": [
    "final_model, val_results, test_results = train_final_model(best_lr, best_bs, epochs=4)"
   ]
  },
  {
   "cell_type": "code",
   "execution_count": 32,
   "id": "199d59ee",
   "metadata": {},
   "outputs": [],
   "source": [
    "# Comprehensive evaluation of final model\n",
    "def evaluate_final_model(model, tokenizer, num_examples=100):\n",
    "    \"\"\"Evaluate the final model on test set with optimized beam search.\"\"\"\n",
    "    print(\"Running final evaluation with optimized beam search...\")\n",
    "    \n",
    "    # Sample from test set\n",
    "    import random\n",
    "    random.seed(42)\n",
    "    \n",
    "    if len(test_df) > num_examples:\n",
    "        sampled_indices = random.sample(range(len(test_df)), num_examples)\n",
    "        test_sample = test_df.iloc[sampled_indices]\n",
    "    else:\n",
    "        test_sample = test_df\n",
    "    \n",
    "    results = []\n",
    "    \n",
    "    for _, row in test_sample.iterrows():\n",
    "        spanish_text = row[\"spanish\"]\n",
    "        reference = row[\"arabic\"]\n",
    "        \n",
    "        # Translate with optimized beam search (5 beams)\n",
    "        inputs = tokenizer(spanish_text, return_tensors=\"pt\").to(device)\n",
    "        outputs = model.generate(\n",
    "            **inputs, \n",
    "            num_beams=5,  # Our best strategy\n",
    "            max_length=128\n",
    "        )\n",
    "        translation = tokenizer.decode(outputs[0], skip_special_tokens=True)\n",
    "        \n",
    "        # Calculate BLEU\n",
    "        sentence_bleu = metric.compute(predictions=[translation], references=[[reference]])\n",
    "        \n",
    "        # Record results\n",
    "        results.append({\n",
    "            \"spanish\": spanish_text,\n",
    "            \"spanish_length\": len(spanish_text.split()),\n",
    "            \"reference\": reference,\n",
    "            \"translation\": translation,\n",
    "            \"bleu\": sentence_bleu[\"score\"]\n",
    "        })\n",
    "    \n",
    "    # Calculate overall BLEU\n",
    "    translations = [r[\"translation\"] for r in results]\n",
    "    references = [[r[\"reference\"]] for r in results]\n",
    "    overall_bleu = metric.compute(predictions=translations, references=references)\n",
    "    \n",
    "    print(f\"Overall BLEU on {len(results)} examples: {overall_bleu['score']:.2f}\")\n",
    "    \n",
    "    # Show examples with best and worst performance\n",
    "    sorted_results = sorted(results, key=lambda x: x[\"bleu\"], reverse=True)\n",
    "    \n",
    "    print(\"\\nBest translations:\")\n",
    "    for r in sorted_results[:3]:\n",
    "        print(f\"Spanish: {r['spanish']}\")\n",
    "        print(f\"Translation: {r['translation']}\")\n",
    "        print(f\"Reference: {r['reference']}\")\n",
    "        print(f\"BLEU: {r['bleu']:.2f}\")\n",
    "        print(\"-\" * 70)\n",
    "    \n",
    "    print(\"\\nWorst translations:\")\n",
    "    for r in sorted_results[-3:]:\n",
    "        print(f\"Spanish: {r['spanish']}\")\n",
    "        print(f\"Translation: {r['translation']}\")\n",
    "        print(f\"Reference: {r['reference']}\")\n",
    "        print(f\"BLEU: {r['bleu']:.2f}\")\n",
    "        print(\"-\" * 70)\n",
    "    \n",
    "    # Analyze performance by sentence length\n",
    "    import pandas as pd\n",
    "    import matplotlib.pyplot as plt\n",
    "    \n",
    "    results_df = pd.DataFrame(results)\n",
    "    \n",
    "    # Group by sentence length\n",
    "    results_df[\"length_bin\"] = pd.cut(\n",
    "        results_df[\"spanish_length\"],\n",
    "        bins=[0, 5, 10, 15, 20, float('inf')],\n",
    "        labels=[\"1-5\", \"6-10\", \"11-15\", \"16-20\", \"20+\"]\n",
    "    )\n",
    "    \n",
    "    length_analysis = results_df.groupby(\"length_bin\").agg({\n",
    "        \"bleu\": [\"mean\", \"count\"]\n",
    "    })\n",
    "    \n",
    "    print(\"\\nPerformance by sentence length:\")\n",
    "    print(length_analysis)\n",
    "    \n",
    "    # Plot\n",
    "    plt.figure(figsize=(10, 6))\n",
    "    plt.bar(\n",
    "        length_analysis.index,\n",
    "        length_analysis[(\"bleu\", \"mean\")]\n",
    "    )\n",
    "    plt.xlabel(\"Sentence Length (words)\")\n",
    "    plt.ylabel(\"Average BLEU Score\")\n",
    "    plt.title(\"Translation Quality by Sentence Length\")\n",
    "    for i, v in enumerate(length_analysis[(\"bleu\", \"mean\")]):\n",
    "        plt.text(i, v + 0.5, f\"{v:.2f}\", ha='center')\n",
    "    plt.savefig(\"bleu_by_length.png\")\n",
    "    plt.show()\n",
    "    \n",
    "    return results_df, overall_bleu[\"score\"]"
   ]
  },
  {
   "cell_type": "code",
   "execution_count": 36,
   "id": "43e1eacf",
   "metadata": {},
   "outputs": [
    {
     "name": "stdout",
     "output_type": "stream",
     "text": [
      "Running final evaluation with optimized beam search...\n",
      "Overall BLEU on 100 examples: 27.06\n",
      "\n",
      "Best translations:\n",
      "Spanish: 1. suprímase el párrafo 1.\n",
      "Translation: 1- تحذف الفقره 1.\n",
      "Reference: 1- تحذف الفقره 1.\n",
      "BLEU: 100.00\n",
      "----------------------------------------------------------------------\n",
      "Spanish: c. préstamos a empleados\n",
      "Translation: جيم - قروض الموظفين\n",
      "Reference: جيم - قروض الموظفين\n",
      "BLEU: 100.00\n",
      "----------------------------------------------------------------------\n",
      "Spanish: iii. aplicación de recomendaciones anteriores de la comisión consultiva en asuntos administrativos y de presupuesto\n",
      "Translation: ثالثا - تنفيذ التوصيات السابقه للجنه الاستشاريه لشءون الاداره والميزانيه\n",
      "Reference: الثالث - تنفيذ التوصيات السابقه للجنه الاستشاريه لشءون الاداره والميزانيه\n",
      "BLEU: 88.01\n",
      "----------------------------------------------------------------------\n",
      "\n",
      "Worst translations:\n",
      "Spanish: anastacia, sus amigas y todos salieron de fiesta a bailar toda la noche.\n",
      "Translation: ‫\"انستاسي\" واصدقاءها والجميع‬ ‫كانوا يحتفلون طوال الليل ويرقصون طوال الليل.‬\n",
      "Reference: انستاسيا) وصديقاتها والجميع) في الحفل يرقصون\n",
      "BLEU: 0.00\n",
      "----------------------------------------------------------------------\n",
      "Spanish: análisis de la situación\n",
      "Translation: تحليل الحاله\n",
      "Reference: تحليلات الحالات\n",
      "BLEU: 0.00\n",
      "----------------------------------------------------------------------\n",
      "Spanish: le agradezco que haya venido tan rápido. de nada.\n",
      "Translation: شكرا لقدومك بهذه السرعه، علا الرحب والسعه\n",
      "Reference: -من الطيب انكم لبيتم الدعوه سريعا\n",
      "BLEU: 0.00\n",
      "----------------------------------------------------------------------\n",
      "\n",
      "Performance by sentence length:\n",
      "                 bleu      \n",
      "                 mean count\n",
      "length_bin                 \n",
      "1-5         23.017728    25\n",
      "6-10        14.085841    22\n",
      "11-15       37.677797     9\n",
      "16-20       20.381647     6\n",
      "20+         24.622991    38\n"
     ]
    },
    {
     "name": "stderr",
     "output_type": "stream",
     "text": [
      "/tmp/ipykernel_342921/3991556216.py:82: FutureWarning: The default of observed=False is deprecated and will be changed to True in a future version of pandas. Pass observed=False to retain current behavior or observed=True to adopt the future default and silence this warning.\n",
      "  length_analysis = results_df.groupby(\"length_bin\").agg({\n"
     ]
    },
    {
     "data": {
      "image/png": "[encoded data removed]",
      "text/plain": [
       "<Figure size 1000x600 with 1 Axes>"
      ]
     },
     "metadata": {},
     "output_type": "display_data"
    }
   ],
   "source": [
    "# Evaluate your final model\n",
    "final_results, final_bleu = evaluate_final_model(final_model, tokenizer)"
   ]
  },
  {
   "cell_type": "code",
   "execution_count": 37,
   "id": "669e4410",
   "metadata": {},
   "outputs": [],
   "source": [
    "def translate_with_optimal_settings(spanish_text):\n",
    "    \"\"\"Translate Spanish to Arabic using optimal settings.\"\"\"\n",
    "    # Load the final model\n",
    "    model_path = \"./models/final_model\"\n",
    "    model = MarianMTModel.from_pretrained(model_path)\n",
    "    tokenizer = MarianTokenizer.from_pretrained(model_path)\n",
    "    \n",
    "    # Move to GPU if available\n",
    "    device = torch.device(\"cuda\" if torch.cuda.is_available() else \"cpu\")\n",
    "    model.to(device)\n",
    "    \n",
    "    # Tokenize\n",
    "    inputs = tokenizer(spanish_text, return_tensors=\"pt\").to(device)\n",
    "    \n",
    "    # Generate with optimal settings\n",
    "    outputs = model.generate(\n",
    "        **inputs, \n",
    "        num_beams=5,  # Our best strategy\n",
    "        max_length=128\n",
    "    )\n",
    "    \n",
    "    # Decode\n",
    "    translation = tokenizer.decode(outputs[0], skip_special_tokens=True)\n",
    "    return translation"
   ]
  },
  {
   "cell_type": "code",
   "execution_count": 38,
   "id": "6ab29c6d",
   "metadata": {},
   "outputs": [
    {
     "name": "stdout",
     "output_type": "stream",
     "text": [
      "Spanish: La paz y la cooperación internacional son fundamentales para el desarrollo sostenible.\n",
      "Arabic: فالسلام والتعاون الدولي عاملان حيويان لتحقيق التنميه المستدامه.\n",
      "----------------------------------------------------------------------\n",
      "Spanish: ¿Cuál es la fecha límite para entregar el informe?\n",
      "Arabic: ما هو الموعد النهاءي لتقديم التقرير؟\n",
      "----------------------------------------------------------------------\n",
      "Spanish: Los niños jugaban en el parque mientras sus padres conversaban.\n",
      "Arabic: الاطفال كانوا يلعبون في المنتزه بينما كان والداهم يتحدثان\n",
      "----------------------------------------------------------------------\n",
      "Spanish: El cambio climático representa una amenaza para todos los países del mundo.\n",
      "Arabic: ويمثل تغير المناخ تهديدا لجميع بلدان العالم.\n",
      "----------------------------------------------------------------------\n"
     ]
    }
   ],
   "source": [
    "example_texts = [\n",
    "    \"La paz y la cooperación internacional son fundamentales para el desarrollo sostenible.\",\n",
    "    \"¿Cuál es la fecha límite para entregar el informe?\",\n",
    "    \"Los niños jugaban en el parque mientras sus padres conversaban.\",\n",
    "    \"El cambio climático representa una amenaza para todos los países del mundo.\"\n",
    "]\n",
    "\n",
    "for text in example_texts:\n",
    "    translation = translate_with_optimal_settings(text)\n",
    "    print(f\"Spanish: {text}\")\n",
    "    print(f\"Arabic: {translation}\")\n",
    "    print(\"-\" * 70)"
   ]
  },
  {
   "cell_type": "code",
   "execution_count": null,
   "id": "a6fad1f1",
   "metadata": {},
   "outputs": [],
   "source": []
  }
 ],
 "metadata": {
  "kernelspec": {
   "display_name": "Python (Spanish-Arabic)",
   "language": "python",
   "name": "spanish_arabic"
  },
  "language_info": {
   "codemirror_mode": {
    "name": "ipython",
    "version": 3
   },
   "file_extension": ".py",
   "mimetype": "text/x-python",
   "name": "python",
   "nbconvert_exporter": "python",
   "pygments_lexer": "ipython3",
   "version": "3.9.21"
  }
 },
 "nbformat": 4,
 "nbformat_minor": 5
}
